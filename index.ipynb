{
 "cells": [
  {
   "cell_type": "code",
   "execution_count": null,
   "metadata": {},
   "outputs": [],
   "source": [
    "#hide\n",
    "from notes_enhancer.core import *"
   ]
  },
  {
   "cell_type": "markdown",
   "metadata": {},
   "source": [
    "# Welcome to Notes Enhancer\n",
    "\n",
    "> True inspiration—real, transformative insight—arrives through the serendipitous collision between old ideas. -David Drysdale"
   ]
  },
  {
   "cell_type": "markdown",
   "metadata": {},
   "source": []
  },
  {
   "cell_type": "markdown",
   "metadata": {},
   "source": [
    "## Mission\n",
    "\n",
    "**Problem**: We have lots of notes that get stale and are forgotten. \n",
    "\n",
    "**Solution**: As you're writing a NEW note, see all the ways it subtly connects to what you already know.\n",
    "\n",
    "1. **Find \"unlinked mentions\"** between pages via semantic search. As a page is written, the rest of your notes are 'fuzzy' searched for synonymous (and opposite) terms, people.\n",
    "2. Use content generation to **\"finish your thought\"** and extend your notes to make them more rich and searchable.\n",
    "3. **Search the web to enrich notes.** Use Wikipedia, Google knowledge graph for topics & people mentioned in your notes. Append that content to the bottom of your notes to make notes richer, and easily searchable. This is a positive feedback loop that helps make more connections between notes, as well."
   ]
  },
  {
   "cell_type": "markdown",
   "metadata": {},
   "source": [
    "## Install"
   ]
  },
  {
   "cell_type": "markdown",
   "metadata": {},
   "source": [
    "@future `pip install .......`"
   ]
  },
  {
   "cell_type": "markdown",
   "metadata": {},
   "source": [
    "## How to use"
   ]
  },
  {
   "cell_type": "markdown",
   "metadata": {},
   "source": [
    "Code examples tbd"
   ]
  },
  {
   "cell_type": "markdown",
   "metadata": {},
   "source": [
    "```python\n",
    "import gpt-3-simple as gpt3\n",
    "gpt3.download_gpt3()\n",
    "\n",
    "notes.find_similar(gpt3)\n",
    "```"
   ]
  }
 ],
 "metadata": {
  "kernelspec": {
   "display_name": "Python 3",
   "language": "python",
   "name": "python3"
  }
 },
 "nbformat": 4,
 "nbformat_minor": 2
}
